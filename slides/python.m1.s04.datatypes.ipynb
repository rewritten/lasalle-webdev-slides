{
 "cells": [
  {
   "cell_type": "markdown",
   "metadata": {},
   "source": [
    "# Módulo 1 :: Introducción a Python y a la programación :: Tipos de datos\n",
    "\n",
    "\n",
    "\n",
    "En esta sesión veremos los diferentes tipos de datos que podemos encontrar en Python,\n",
    "y los operadores comunmente utilizados para manipularlos."
   ]
  },
  {
   "cell_type": "markdown",
   "metadata": {},
   "source": [
    "## Los números enteros\n",
    "\n",
    "En Python, los números enteros son un tipo de dato que puede almacenar números enteros positivos y negativos. No tienen un límite de tamaño y están limitados solo por la cantidad de memoria disponible. \n",
    "\n",
    "Python también soporta operaciones operaciones aritméticas con enteros, como la suma (+), la resta (-), la multiplicación (*), la división entera (//), y el módulo (%)."
   ]
  },
  {
   "cell_type": "code",
   "execution_count": null,
   "metadata": {},
   "outputs": [],
   "source": [
    "12 + 14"
   ]
  },
  {
   "cell_type": "code",
   "execution_count": null,
   "metadata": {},
   "outputs": [],
   "source": [
    "1 - 1234"
   ]
  },
  {
   "cell_type": "code",
   "execution_count": null,
   "metadata": {},
   "outputs": [],
   "source": [
    "5 * 6 * 7"
   ]
  },
  {
   "cell_type": "code",
   "execution_count": null,
   "metadata": {},
   "outputs": [],
   "source": [
    "61 // 4"
   ]
  },
  {
   "cell_type": "code",
   "execution_count": null,
   "metadata": {},
   "outputs": [],
   "source": [
    "67 % 4"
   ]
  },
  {
   "cell_type": "markdown",
   "metadata": {},
   "source": [
    "Los enteros no tienen, como en otros lenguajes, un limite a priori. En lenguajes como C o Java los numeros enteros deben tener cierto tamaño en bits, por ejemplo 8 bits, o 64 bits, lo que limita el rango de valores que pueden almacenar. En Python, los enteros no tienen este limite, y pueden ser tan grandes como la memoria de la computadora lo permita.\n",
    "\n",
    "Utilizamos el operador `**` (cuando el segundo operando es un entero positivo) para calcular la potencia de un número:"
   ]
  },
  {
   "cell_type": "code",
   "execution_count": null,
   "metadata": {},
   "outputs": [],
   "source": [
    "# Un GOOGOL\n",
    "10 ** 100"
   ]
  },
  {
   "cell_type": "markdown",
   "metadata": {},
   "source": [
    "Sin embargo, la computación de números muy grandes puede ser lenta, y en algunos casos puede superar los limites de los recursos disponibles en la computadora."
   ]
  },
  {
   "cell_type": "code",
   "execution_count": null,
   "metadata": {},
   "outputs": [],
   "source": [
    "# Un GOOGOLPLEX (10 elevado a un GOOGOL)\n",
    "# 10 ** 10 ** 100"
   ]
  },
  {
   "cell_type": "markdown",
   "metadata": {},
   "source": [
    "La desventaja de los enteros en Python es que son más lentos que los enteros \"fijos\" de otros lenguajes, ya que Python necesita hacer más trabajo para las operaciones aritméticas."
   ]
  },
  {
   "cell_type": "markdown",
   "metadata": {},
   "source": [
    "## Los números de punto flotante\n",
    "\n",
    "Los números de punto flotante (o más brevemente, *floats*) son un tipo de dato que puede almacenar números reales, con decimales. En Python, los números de punto flotante son de doble precisión (utilizando 64 bits para cada número), lo que significa que tienen una precisión de aproximadamente 15 decimales.\n",
    "\n",
    "Creamos floats simplemente escribiendo un número con un punto decimal. Por ejemplo, `3.14` es un número de punto flotante.\n",
    "\n",
    "Las operaciones aritméticas con floats son similares a las operaciones con enteros, añadiendo la división normal (/) y la potencia (**)"
   ]
  },
  {
   "cell_type": "code",
   "execution_count": null,
   "metadata": {},
   "outputs": [],
   "source": [
    "1.0 / 3.0"
   ]
  },
  {
   "cell_type": "code",
   "execution_count": null,
   "metadata": {},
   "outputs": [],
   "source": [
    "1 / 3"
   ]
  },
  {
   "cell_type": "code",
   "execution_count": null,
   "metadata": {},
   "outputs": [],
   "source": [
    "3 / 1"
   ]
  },
  {
   "cell_type": "code",
   "execution_count": null,
   "metadata": {},
   "outputs": [],
   "source": [
    "10 ** -2"
   ]
  },
  {
   "cell_type": "code",
   "execution_count": null,
   "metadata": {},
   "outputs": [],
   "source": [
    "(-2.4) ** -3"
   ]
  },
  {
   "cell_type": "markdown",
   "metadata": {},
   "source": [
    "Es muy importante tener en cuenta que los números de punto flotante no son exactos, y pueden tener errores de redondeo. Por ejemplo, el número 0.1 no puede ser representado exactamente en binario, y por lo tanto, los cálculos con 0.1 pueden tener errores de redondeo."
   ]
  },
  {
   "cell_type": "code",
   "execution_count": null,
   "metadata": {},
   "outputs": [],
   "source": [
    "0.1 + 0.2"
   ]
  },
  {
   "cell_type": "markdown",
   "metadata": {},
   "source": [
    "Además, al tener precisión limitada, las operaciones pueden no tener el efecto deseado:"
   ]
  },
  {
   "cell_type": "code",
   "execution_count": null,
   "metadata": {},
   "outputs": [],
   "source": [
    "99999999999999999999999999999999.0 - 99999999999999999999999999999998.0"
   ]
  },
  {
   "cell_type": "markdown",
   "metadata": {},
   "source": [
    "## Los números complejos\n",
    "\n",
    "Los números complejos son un tipo de dato que consiste en una combinación de una parte real y una parte imaginaria. En Python, también podemos trabajar con números complejos utilizando la notación `a + bj`, donde `a` es la parte real y `b` es la parte imaginaria. Por ejemplo, el número complejo `3 + 2j` tiene una parte real de 3 y una parte imaginaria de 2.\n",
    "\n",
    "Los números complejos en Python admiten los mismos operadores que los floats, de hecho son una combinación de dos floats, y subyacen a los mismos problemas de precisión."
   ]
  },
  {
   "cell_type": "code",
   "execution_count": null,
   "metadata": {},
   "outputs": [],
   "source": [
    "(-1) ** 0.5 * 1j"
   ]
  },
  {
   "cell_type": "markdown",
   "metadata": {},
   "source": [
    "## Listas\n",
    "\n",
    "En python una lista es una secuencia de elementos, que pueden ser de cualquier tipo. Las listas se crean utilizando corchetes `[]` y separando los elementos con comas. Por ejemplo, la lista `[1, 2, 3]` contiene los números 1, 2 y 3.\n",
    "\n",
    "Las listas pueden contener otras listas, y pueden ser de cualquier tamaño. Por ejemplo, la lista `[[1, 2], [3, 4]]` contiene como elementos dos listas, `[1, 2]` y `[3, 4]`.\n",
    "\n",
    "Creamos una lista vacía simplemente escribiendo `[]` o con la función `list()`:\n"
   ]
  },
  {
   "cell_type": "code",
   "execution_count": null,
   "metadata": {},
   "outputs": [],
   "source": [
    "list()"
   ]
  },
  {
   "cell_type": "markdown",
   "metadata": {},
   "source": [
    "### Operaciones con listas\n",
    "\n",
    "Podemos acceder a los elementos de una lista utilizando corchetes `[]`. Por ejemplo, si tenemos la lista `[1, 2, 3]`, podemos acceder al primer elemento de la lista juxtaponiendo `[0]`, al segundo elemento con `[1]`, y al tercer elemento con `[2]`:"
   ]
  },
  {
   "cell_type": "code",
   "execution_count": null,
   "metadata": {},
   "outputs": [],
   "source": [
    "[1, 2, 3][0]"
   ]
  },
  {
   "cell_type": "markdown",
   "metadata": {},
   "source": [
    "También podemos acceder a un rango de elementos de una lista utilizando la notación `[inicio:fin]`. De esta manera tendremos los elementos desde `inicio` (incluído) hasta `fin` (excluido)."
   ]
  },
  {
   "cell_type": "code",
   "execution_count": null,
   "metadata": {},
   "outputs": [],
   "source": [
    "[11, 12, 13, 14, 15][2:4]"
   ]
  },
  {
   "cell_type": "markdown",
   "metadata": {},
   "source": [
    "Una manera muy frecuente de obtener una copia de una lista es utilizando la notación `[:]`. Si en un rango no se especifica el inicio o el fin, se asume que es el principio o el final de la lista, respectivamente."
   ]
  },
  {
   "cell_type": "code",
   "execution_count": null,
   "metadata": {},
   "outputs": [],
   "source": [
    "[11, 12, 13, 14, 15][:]"
   ]
  },
  {
   "cell_type": "markdown",
   "metadata": {},
   "source": [
    "Podemos concatenar listas utilizando el operador `+`:"
   ]
  },
  {
   "cell_type": "code",
   "execution_count": null,
   "metadata": {},
   "outputs": [],
   "source": [
    "[1, 2, 3] + [5, 6, 7]"
   ]
  },
  {
   "cell_type": "markdown",
   "metadata": {},
   "source": [
    "Podemos repetir una lista utilizando el operador `*`:"
   ]
  },
  {
   "cell_type": "code",
   "execution_count": null,
   "metadata": {},
   "outputs": [],
   "source": [
    "[1, 2, 3, 4, 5] * 2"
   ]
  },
  {
   "cell_type": "markdown",
   "metadata": {},
   "source": [
    "### Petición de información a listas\n",
    "\n",
    "Hay funciones que nos permiten extraer información de las listas. Por ejemplo, la función `len` nos permite obtener la longitud de una lista:"
   ]
  },
  {
   "cell_type": "code",
   "execution_count": null,
   "metadata": {},
   "outputs": [],
   "source": [
    "len([1, 2, 3])"
   ]
  },
  {
   "cell_type": "markdown",
   "metadata": {},
   "source": [
    "Podemos contar cuantas veces aparece un elemento en una lista utilizando la función `count`:"
   ]
  },
  {
   "cell_type": "code",
   "execution_count": null,
   "metadata": {
    "tags": []
   },
   "outputs": [],
   "source": [
    "[3, 1, 4, 1, 5, 9, 2, 6, 5, 3, 5].count(5)"
   ]
  },
  {
   "cell_type": "markdown",
   "metadata": {},
   "source": [
    "Podemos obtener la posición de un elemento en una lista utilizando la función `index`:"
   ]
  },
  {
   "cell_type": "code",
   "execution_count": null,
   "metadata": {},
   "outputs": [],
   "source": [
    "[3, 1, 4, 1, 5, 9, 2, 6, 5, 3, 5].index(9)"
   ]
  },
  {
   "cell_type": "markdown",
   "metadata": {},
   "source": [
    "Podemos obtener una lista ordenada de los elementos de una lista utilizando la función `sorted`:"
   ]
  },
  {
   "cell_type": "code",
   "execution_count": null,
   "metadata": {},
   "outputs": [],
   "source": [
    "sorted([3, 1, 4, 1, 5, 9, 2, 6, 5, 3, 5])"
   ]
  },
  {
   "cell_type": "markdown",
   "metadata": {},
   "source": [
    "### Funciones que modifican listas\n",
    "\n",
    "Todas las operaciones que hemos visto hasta ahora son **puras**, simplemente utilizan los operandos para obtener un resultado, pero no modifican los operandos. Se pueden por lo tanto ejecutar tantas veces como se quiera sin cambiar el resultado.\n",
    "\n",
    "Hay funciones que sin embargo tienen un efecto colateral, o primario, sobre los operandos. Para poder observar el efecto, asociamos un nombre a una lista, y ejecutamos la función.\n",
    "\n",
    "Por ejemplo, la función `append` añade un elemento al final de una lista:"
   ]
  },
  {
   "cell_type": "code",
   "execution_count": null,
   "metadata": {},
   "outputs": [],
   "source": [
    "digitos = [3, 1, 4]\n",
    "digitos.append(10)\n",
    "digitos.append(10)\n",
    "digitos"
   ]
  },
  {
   "cell_type": "markdown",
   "metadata": {},
   "source": [
    "La función `extend` añade todos los elementos de una lista al final de otra:"
   ]
  },
  {
   "cell_type": "code",
   "execution_count": null,
   "metadata": {},
   "outputs": [],
   "source": [
    "digitos = [3, 1, 4]\n",
    "digitos.extend([10, 11])\n",
    "digitos.extend([10, 11])\n",
    "digitos"
   ]
  },
  {
   "cell_type": "markdown",
   "metadata": {},
   "source": [
    "La función `insert` añade un elemento en una posición concreta de una lista:"
   ]
  },
  {
   "cell_type": "code",
   "execution_count": null,
   "metadata": {},
   "outputs": [],
   "source": [
    "digitos = [3, 1, 4, 1, 5, 9, 2, 6, 5, 3, 5]\n",
    "digitos.insert(2, 10)\n",
    "digitos"
   ]
  },
  {
   "cell_type": "markdown",
   "metadata": {},
   "source": [
    "La función `sort` ordena los elementos de una lista:"
   ]
  },
  {
   "cell_type": "code",
   "execution_count": null,
   "metadata": {},
   "outputs": [],
   "source": [
    "digitos = [3, 1, 4, 1, 5, 9, 2, 6, 5, 3, 5]\n",
    "digitos.sort()\n",
    "digitos"
   ]
  },
  {
   "cell_type": "markdown",
   "metadata": {},
   "source": [
    "### Caveats\n",
    "\n",
    "Al ser las listas un tipo de dato mutable, es importante tener en cuenta que si asignamos dos nombres a una lista, si la modificamos usando un nombre quedarán modificadas todas las referencias a esa lista:"
   ]
  },
  {
   "cell_type": "code",
   "execution_count": null,
   "metadata": {},
   "outputs": [],
   "source": [
    "digitos = [3, 1, 4, 1, 5, 9, 2, 6, 5, 3, 5]\n",
    "otros_digitos = digitos\n",
    "otros_digitos[0] = 10\n",
    "digitos"
   ]
  },
  {
   "cell_type": "markdown",
   "metadata": {},
   "source": [
    "También es posible poner una lista como elemento de si misma, lo que puede llevar a situaciones extrañas:"
   ]
  },
  {
   "cell_type": "code",
   "execution_count": null,
   "metadata": {},
   "outputs": [],
   "source": [
    "ouroboros = [1, 2, 3]\n",
    "ouroboros.append(ouroboros)\n",
    "ouroboros[3][3][3].extend([4])\n",
    "ouroboros"
   ]
  },
  {
   "cell_type": "markdown",
   "metadata": {},
   "source": [
    "## Diccionarios\n",
    "\n",
    "Los diccionarios son estructuras de datos que asocian claves con valores. En Python, creamos un diccionario utilizando llaves `{}` o con la función `dict()`. Por ejemplo, el diccionario `{'a': 1, 'b': 2}` asocia la clave `'a'` con el valor `1` y la clave `'b'` con el valor `2`.\n",
    "\n",
    "Igual que las listas, los diccionarios pueden contener cualquier tipo de dato. Por ejemplo, el diccionario `{1: 'a', 'b': [2, 3]}` asocia la clave `1` con el valor `'a'` y la clave `'b'` con la lista `[2, 3]`.\n",
    "\n",
    "Sin embargo, las claves solamente pueden ser de ciertos tipos de datos. Listas y otros diccionarios no pueden utilizarse  como claves, pero números o strings sí."
   ]
  },
  {
   "cell_type": "code",
   "execution_count": null,
   "metadata": {},
   "outputs": [],
   "source": [
    "{1: 'a', 'b': [2, 3]}"
   ]
  },
  {
   "cell_type": "code",
   "execution_count": null,
   "metadata": {},
   "outputs": [],
   "source": [
    "{1: 'a', 'b': [2, 3], [4, 5]: 'c'}"
   ]
  },
  {
   "cell_type": "markdown",
   "metadata": {},
   "source": [
    "Leemos el valor asociado a una clave utilizando corchetes `[]`:"
   ]
  },
  {
   "cell_type": "code",
   "execution_count": null,
   "metadata": {},
   "outputs": [],
   "source": [
    "{'a': 1, 'b': 2}['a']"
   ]
  },
  {
   "cell_type": "markdown",
   "metadata": {},
   "source": [
    "Añadimos y modificamos valores asociados a claves utilizando corchetes `[]`:"
   ]
  },
  {
   "cell_type": "code",
   "execution_count": null,
   "metadata": {},
   "outputs": [],
   "source": [
    "diccionario = {'a': 1, 'b': 2}\n",
    "diccionario['c'] = 3\n",
    "diccionario['a'] = 10\n",
    "diccionario"
   ]
  },
  {
   "cell_type": "markdown",
   "metadata": {},
   "source": [
    "Eliminamos claves utilizando la función `del`:"
   ]
  },
  {
   "cell_type": "code",
   "execution_count": null,
   "metadata": {},
   "outputs": [],
   "source": [
    "diccionario = {'a': 1, 'b': 2}\n",
    "del diccionario['a']\n",
    "diccionario\n"
   ]
  },
  {
   "cell_type": "markdown",
   "metadata": {},
   "source": [
    "Usamos los diccionarios para almacenar información que queremos asociar con una clave. Por ejemplo, podemos utilizar un diccionario para almacenar la información de un estudiante, utilizando el nombre del estudiante como clave y una lista con sus notas como valor. O almacenar varias propiedades de un objeto utilizando un diccionario."
   ]
  },
  {
   "cell_type": "markdown",
   "metadata": {},
   "source": [
    "## Tuplas\n",
    "\n",
    "Las tuplas son secuencias de elementos, como las listas, pero son inmutables, es decir, no pueden ser modificadas una vez creadas. Creamos una tupla utilizando paréntesis `()` o con la función `tuple()`. Por ejemplo, la tupla `(1, 2, 3)` contiene los números 1, 2 y 3. Para crear una tupla con un solo elemento necesitamos usar una coma al final: `(1,)`."
   ]
  },
  {
   "cell_type": "code",
   "execution_count": null,
   "metadata": {},
   "outputs": [],
   "source": [
    "(1, 2, 3) + (24,)"
   ]
  },
  {
   "cell_type": "markdown",
   "metadata": {},
   "source": [
    "Las tuplas admiten todas las funciones que hemos visto para las listas, excepto las que modifican la lista. Por ejemplo, podemos acceder a los elementos de una tupla utilizando corchetes `[]`:"
   ]
  },
  {
   "cell_type": "code",
   "execution_count": null,
   "metadata": {},
   "outputs": [],
   "source": [
    "(11, 12, 13)[2]"
   ]
  },
  {
   "cell_type": "markdown",
   "metadata": {},
   "source": [
    "Las tuplas **se pueden utilizar como claves de un diccionario**."
   ]
  }
 ],
 "metadata": {
  "kernelspec": {
   "display_name": "Python 3 (ipykernel)",
   "language": "python",
   "name": "python3"
  },
  "language_info": {
   "codemirror_mode": {
    "name": "ipython",
    "version": 3
   },
   "file_extension": ".py",
   "mimetype": "text/x-python",
   "name": "python",
   "nbconvert_exporter": "python",
   "pygments_lexer": "ipython3",
   "version": "3.12.1"
  }
 },
 "nbformat": 4,
 "nbformat_minor": 4
}
